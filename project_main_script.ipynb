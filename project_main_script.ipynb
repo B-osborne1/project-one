{
 "cells": [
  {
   "cell_type": "code",
   "execution_count": null,
   "metadata": {},
   "outputs": [],
   "source": [
    "#List of dependencies - Use as needed\n",
    "                #Refer to week 6 notes\n",
    "        #import requests - Used for APIs\n",
    "        #from config import api_key - file with API key\n",
    "        #import time - Used for APIs to expand time between each hit\n",
    "        #import json - Used for APIs\n",
    "        #import pprint - Formatting for JSON files\n",
    "\n",
    "        #Refer to week 5 notes\n",
    "#%matplotlib widget - Allows for multiple instances of same plot\n",
    "import matplotlib.pyplot as plt # Create plots\n",
    "import numpy as np # mathematical manipulations\n",
    "from scipy import stats #- stats and probability\n",
    "\n",
    "        #Refer to week 4 notes\n",
    "from pathlib import Path # Link to csv-files\n",
    "import pandas as pd # Read csv files"
   ]
  },
  {
   "cell_type": "code",
   "execution_count": null,
   "metadata": {},
   "outputs": [],
   "source": [
    "#Link to APIs (week 6.3), API codes and CSVs (week 4)\n",
    "    #Add API key file to gitignore\n"
   ]
  },
  {
   "cell_type": "code",
   "execution_count": null,
   "metadata": {},
   "outputs": [],
   "source": [
    "#Set up APIs (week 6.3)"
   ]
  },
  {
   "cell_type": "code",
   "execution_count": null,
   "metadata": {},
   "outputs": [],
   "source": [
    "#Manipulate CSVs (week 4)"
   ]
  },
  {
   "cell_type": "code",
   "execution_count": null,
   "metadata": {},
   "outputs": [],
   "source": [
    "#Begin mathematical analysis (week 5)\n",
    "    #Over 6 -- at least 2 per question\n",
    "    #Ensure labels completed"
   ]
  },
  {
   "cell_type": "markdown",
   "metadata": {},
   "source": [
    "## State By State wheat production graphs\n",
    "\n",
    "The following code produces graphs based on each state"
   ]
  },
  {
   "cell_type": "code",
   "execution_count": null,
   "metadata": {},
   "outputs": [],
   "source": [
    "# Reading the Wheat_StateByState.csv file\n",
    "state_df = pd.read_csv(\"Resources/Wheat_StateByState_formatted.csv\")\n",
    "print(state_df)\n",
    "year_range = np.arange(1.0,8.0,1.0)\n",
    "print(year_range)"
   ]
  },
  {
   "cell_type": "code",
   "execution_count": null,
   "metadata": {},
   "outputs": [],
   "source": [
    "# Creating a multi plot with three rows and two columns\n",
    "fig, axs = plt.subplots(3, 2)\n",
    "fig.suptitle('State wheat production per year')\n",
    "\n",
    "# NSW graph\n",
    "# Creating a scatter graph with the year as the x value and yield as the y value\n",
    "axs[0,0].scatter(nsw_wheat_prod['Year'], nsw_wheat_prod['Yield'], c=nsw_wheat_prod['Hectares'], cmap=\"viridis\")\n",
    "axs[0,0].set_title('NSW wheat prod per year')\n",
    "axs[0,0].set_ylabel('Yeild')\n",
    "axs[0,0].set_xlabel('Year')\n",
    "# NSW linear regression (uncomment the section below once fixed)\n",
    "# nsw_x_values = year_range\n",
    "# nsw_y_values = state_df['NSW_kt'].to_numpy() # TODO: The states df seems to be importing the data as a string\n",
    "# (nsw_slope, nsw_intercept, nsw_rvalue, nsw_pvalue, nsw_stderr) = st.linregress(nsw_x_values, nsw_y_values)\n",
    "# nsw_regress = year_range * nsw_slope + nsw_intercept\n",
    "# axs[0,0].plot(year_range,nsw_regress,\"r-\")\n",
    "\n",
    "# VIC graph\n",
    "axs[0,1].scatter(vic_wheat_prod['Year'], vic_wheat_prod['Yield'], c=vic_wheat_prod['Hectares'], cmap=\"viridis\")\n",
    "axs[0,1].set_title('Vic wheat prod per year')\n",
    "axs[0,1].set_ylabel('Yeild')\n",
    "axs[0,1].set_xlabel('Year')\n",
    "\n",
    "# VIC linear regression\n",
    "# (vic_slope, vic_intercept, vic_rvalue, vic_pvalue, vic_stderr) = st.linregress(year_range, state_df['VIC_kt'])\n",
    "# vic_regress = year_range * vic_slope + vic_intercept\n",
    "# axs[0,0].plot(year_range,vic_regress,\"r-\")\n",
    "\n",
    "# QLD graph\n",
    "axs[1,0].scatter(state_df['Year'], state_df['QLD_kt'], c=state_df['QLD_ha'], cmap=\"viridis\")\n",
    "axs[1,0].set_title('QLD wheat prod per year')\n",
    "axs[1,0].set_ylabel('Yeild')\n",
    "axs[1,0].set_xlabel('Year')\n",
    "\n",
    "# QLD linear regression (uncomment the section below once fixed)\n",
    "# (qld_slope, qld_intercept, qld_rvalue, qld_pvalue, qld_stderr) = st.linregress(year_range, state_df['QLD_kt'])\n",
    "# qld_regress = qld_range * qld_slope + qld_intercept\n",
    "# axs[0,0].plot(year_range,qld_regress,\"r-\")\n",
    "\n",
    "# SA graph\n",
    "axs[1,1].scatter(state_df['Year'], state_df['SA_kt'], c=state_df['SA_ha'], cmap=\"viridis\")\n",
    "axs[1,1].set_title('SA wheat prod per year')\n",
    "axs[2,0].set_ylabel('Yeild')\n",
    "axs[2,0].set_xlabel('Year')\n",
    "# SA linear regression (uncomment the section below once fixed)\n",
    "# (sa_slope, sa_intercept, sa_rvalue, sa_pvalue, sa_stderr) = st.linregress(year_range, state_df['SA_kt'])\n",
    "# sa_regress = year_range * sa_slope + sa_intercept\n",
    "# axs[0,0].plot(year_range,sa_regress,\"r-\")\n",
    "\n",
    "# WA graph\n",
    "axs[2,0].scatter(state_df['Year'], state_df['WA_kt'], c=state_df['WA_ha'], cmap=\"viridis\")\n",
    "axs[2,0].set_title('WA wheat prod per year')\n",
    "axs[2,0].set_ylabel('Yeild')\n",
    "axs[2,0].set_xlabel('Year')\n",
    "# linear regression (uncomment the section below once fixed)\n",
    "# (wa_slope, wa_intercept, wa_rvalue, wa_pvalue, wa_stderr) = st.linregress(year_range, state_df['WA_kt'])\n",
    "# wa_regress = year_range * wa_slope + wa_intercept\n",
    "# axs[0,0].plot(year_range,wa_regress,\"r-\")\n",
    "\n",
    "# TAS graph\n",
    "axs[2,1].scatter(state_df['Year'], state_df['TAS_kt'], c=state_df['TAS_ha'], cmap=\"viridis\")\n",
    "(tas_slope, tas_intercept, tas_rvalue, tas_pvalue, tas_stderr) = st.linregress(year_range, state_df['TAS_kt'])\n",
    "tas_regress = year_range * tas_slope + tas_intercept\n",
    "axs[0,0].plot(year_range,tas_regress,\"r-\")\n",
    "axs[2,1].set_title('TAS wheat prod per year')\n",
    "axs[2,1].set_ylabel('Yeild')\n",
    "axs[2,1].set_xlabel('Year')\n",
    "# linear regression (uncomment the section below once fixed)"
   ]
  }
 ],
 "metadata": {
  "language_info": {
   "name": "python"
  }
 },
 "nbformat": 4,
 "nbformat_minor": 2
}
