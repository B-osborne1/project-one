{
 "cells": [
  {
   "cell_type": "code",
   "execution_count": null,
   "metadata": {},
   "outputs": [],
   "source": [
    "#List of dependencies - Use as needed\n",
    "                #Refer to week 6 notes\n",
    "        #import requests - Used for APIs\n",
    "        #from config import api_key - file with API key\n",
    "        #import time - Used for APIs to expand time between each hit\n",
    "        #import json - Used for APIs\n",
    "        #import pprint - Formatting for JSON files\n",
    "\n",
    "                #Refer to week 5 notes\n",
    "        #%matplotlib widget - Allows for multiple instances of same plot\n",
    "        #import matplotlib.pyplot as plt - Create plots\n",
    "        #import numpy as np - mathematical manipulations\n",
    "        #from scipy import stats - stats and probability\n",
    "\n",
    "                #Refer to week 4 notes\n",
    "        #from pathlib import Path - Link to csv-files\n",
    "        #import pandas as pd - Read csv files"
   ]
  },
  {
   "cell_type": "code",
   "execution_count": null,
   "metadata": {},
   "outputs": [],
   "source": [
    "#Link to APIs (week 6.3), API codes and CSVs (week 4)\n",
    "    #Add API key file to gitignore\n"
   ]
  },
  {
   "cell_type": "code",
   "execution_count": null,
   "metadata": {},
   "outputs": [],
   "source": [
    "#Set up APIs (week 6.3)"
   ]
  },
  {
   "cell_type": "code",
   "execution_count": null,
   "metadata": {},
   "outputs": [],
   "source": [
    "#Manipulate CSVs (week 4)"
   ]
  },
  {
   "cell_type": "code",
   "execution_count": null,
   "metadata": {},
   "outputs": [],
   "source": [
    "#Begin mathematical analysis (week 5)\n",
    "    #Over 6 -- at least 2 per question\n",
    "    #Ensure labels completed"
   ]
  },
  {
   "cell_type": "code",
   "execution_count": null,
   "metadata": {},
   "outputs": [],
   "source": []
  }
 ],
 "metadata": {
  "language_info": {
   "name": "python"
  }
 },
 "nbformat": 4,
 "nbformat_minor": 2
}
